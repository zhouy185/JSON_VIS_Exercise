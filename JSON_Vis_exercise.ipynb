{
  "nbformat": 4,
  "nbformat_minor": 0,
  "metadata": {
    "colab": {
      "provenance": [],
      "authorship_tag": "ABX9TyM6NH4IPI4XX/gSKFWVhr3v",
      "include_colab_link": true
    },
    "kernelspec": {
      "name": "python3",
      "display_name": "Python 3"
    },
    "language_info": {
      "name": "python"
    }
  },
  "cells": [
    {
      "cell_type": "markdown",
      "metadata": {
        "id": "view-in-github",
        "colab_type": "text"
      },
      "source": [
        "<a href=\"https://colab.research.google.com/github/zhouy185/JSON_VIS_Exercise/blob/main/JSON_Vis_exercise.ipynb\" target=\"_parent\"><img src=\"https://colab.research.google.com/assets/colab-badge.svg\" alt=\"Open In Colab\"/></a>"
      ]
    },
    {
      "cell_type": "markdown",
      "source": [
        "# Exercise: Visualization with OSM\n",
        "\n",
        "In this exercise, we will modify the codes we used in class to show all **parks** in Hamilton, Ontario on a map.\n",
        "\n",
        "You need to make the necessary changes to the code to make it work for the new context."
      ],
      "metadata": {
        "id": "5_o4pItc2eNo"
      }
    },
    {
      "cell_type": "markdown",
      "source": [
        "## Area ID query\n",
        "\n",
        "The following function that returns the OVERPASS area id based on city and country names.\n",
        "\n",
        "* **NO** need to change anything in the function"
      ],
      "metadata": {
        "id": "I-IurKbb3FSu"
      }
    },
    {
      "cell_type": "code",
      "execution_count": 6,
      "metadata": {
        "id": "kIvANrf6xxRn"
      },
      "outputs": [],
      "source": [
        "import requests\n",
        "\n",
        "def get_osm_area_id(city_name, country_name=None):\n",
        "    \"\"\"\n",
        "    Gets the OpenStreetMap (OSM) area ID for a given city name, optionally including the country,\n",
        "    using the Nominatim API.\n",
        "\n",
        "    Args:\n",
        "        city_name (str): The name of the city.\n",
        "        country_name (str, optional): The name of the country. Defaults to None.\n",
        "\n",
        "    Returns:\n",
        "        int or None: The OSM area ID if found, otherwise None.\n",
        "    \"\"\"\n",
        "    query = city_name\n",
        "    if country_name:\n",
        "        query = f\"{city_name}, {country_name}\"\n",
        "\n",
        "    url = f\"https://nominatim.openstreetmap.org/search?q={query}&format=json&limit=1\"\n",
        "    headers = {'User-Agent': 'Colab Notebook'} # Add a User-Agent header\n",
        "    response = requests.get(url, headers=headers)\n",
        "    data = response.json()\n",
        "\n",
        "    if data:\n",
        "        # The Nominatim API returns a list of results. We take the first one.\n",
        "        # The area ID is often the same as the OSM ID for the place.\n",
        "        # We can add 3600000000 to the OSM ID to get the area ID for use in Overpass API.\n",
        "        # See: https://wiki.openstreetmap.org/wiki/Overpass_API/Areas\n",
        "        osm_id = data[0].get('osm_id')\n",
        "        if osm_id:\n",
        "            # Assuming the osm_id is for a boundary or administrative area\n",
        "            # This might need refinement depending on the exact type of place returned\n",
        "            area_id = osm_id + 3600000000\n",
        "            return area_id\n",
        "    return None\n",
        "\n",
        "# Example usage (optional - you can remove this if you just want the function definition)\n",
        "# city = \"London\"\n",
        "# country = \"UK\"\n",
        "# area_id = get_osm_area_id(city, country)\n",
        "# if area_id:\n",
        "#     print(f\"The OSM area ID for {city}, {country} is: {area_id}\")\n",
        "# else:\n",
        "#     print(f\"Could not find the OSM area ID for {city}, {country}\")\n",
        "\n",
        "# city = \"London\"\n",
        "# country = \"Canada\"\n",
        "# area_id = get_osm_area_id(city, country)\n",
        "# if area_id:\n",
        "#     print(f\"The OSM area ID for {city}, {country} is: {area_id}\")\n",
        "# else:\n",
        "#     print(f\"Could not find the OSM area ID for {city}, {country}\")"
      ]
    },
    {
      "cell_type": "markdown",
      "source": [
        "## Using OVERPASS to find parks in the city"
      ],
      "metadata": {
        "id": "RAzYMBdB3htw"
      }
    },
    {
      "cell_type": "markdown",
      "source": [
        "Get the area id and then define the OVERPASS query."
      ],
      "metadata": {
        "id": "Nt_EMsyb317q"
      }
    },
    {
      "cell_type": "code",
      "source": [
        "area_id = get_osm_area_id('Hamilton', country_name='Canada')\n",
        "area_id"
      ],
      "metadata": {
        "id": "cgcjeqEmzGHv"
      },
      "execution_count": null,
      "outputs": []
    },
    {
      "cell_type": "code",
      "source": [
        "query = \"\"\"\n",
        "[out:json][timeout:25];\n",
        "area(id:3600324211)->.a;\n",
        " (\n",
        "    node[\"amenity\"=\"cafe\"](area.a);\n",
        "    way[\"amenity\"=\"cafe\"](area.a);\n",
        "    relation[\"amenity\"=\"cafe\"](area.a);\n",
        "  );\n",
        "out center tags;\n",
        "\"\"\""
      ],
      "metadata": {
        "id": "ngkGEFvVzOqZ"
      },
      "execution_count": 53,
      "outputs": []
    },
    {
      "cell_type": "code",
      "source": [
        "# Import the library\n",
        "import requests\n",
        "\n",
        "\n",
        "# The URL\n",
        "OVERPASS  = \"https://overpass-api.de/api/interpreter\"\n",
        "\n",
        "# Sending the data, and assign the response to a variable r\n",
        "\n",
        "r = requests.post(OVERPASS, data={\"data\": query}, timeout=60)\n",
        "\n",
        "r.status_code"
      ],
      "metadata": {
        "colab": {
          "base_uri": "https://localhost:8080/"
        },
        "id": "9PahFHpozl5o",
        "outputId": "915c8f23-bbae-4cd0-88c7-12a95da14ab2"
      },
      "execution_count": 54,
      "outputs": [
        {
          "output_type": "execute_result",
          "data": {
            "text/plain": [
              "200"
            ]
          },
          "metadata": {},
          "execution_count": 54
        }
      ]
    },
    {
      "cell_type": "markdown",
      "source": [
        "Get the json data from the response to the query"
      ],
      "metadata": {
        "id": "vzq6XLv34AZh"
      }
    },
    {
      "cell_type": "code",
      "source": [
        "data = r.json()\n",
        "places = data.get('elements')"
      ],
      "metadata": {
        "id": "XD7Bl-n5zxt9"
      },
      "execution_count": 55,
      "outputs": []
    },
    {
      "cell_type": "markdown",
      "source": [
        "Convert the JSON data to a data frame to preview the content."
      ],
      "metadata": {
        "id": "pVtTScK30g1M"
      }
    },
    {
      "cell_type": "code",
      "source": [
        "pd.DataFrame(places)"
      ],
      "metadata": {
        "id": "dji6AiHH1m1U"
      },
      "execution_count": null,
      "outputs": []
    },
    {
      "cell_type": "markdown",
      "source": [
        "Convert the JSON data to a clean data frame."
      ],
      "metadata": {
        "id": "96nD3mkD4ciI"
      }
    },
    {
      "cell_type": "code",
      "source": [
        "import pandas as pd\n",
        "\n",
        "# Create an empty list to store the data for the DataFrame\n",
        "data_list = []\n",
        "\n",
        "# Iterate through each element in the 'places' list\n",
        "for place in places:\n",
        "    # Extract the required information\n",
        "    place_type = place.get('type')\n",
        "    place_id = place.get('id')\n",
        "    tags = place.get('tags')\n",
        "    name = tags.get('name')\n",
        "    cuisine = tags.get('cuisine')\n",
        "    brand = tags.get('brand')\n",
        "\n",
        "    # Get latitude and longitude based on element type\n",
        "    if place_type == 'node':\n",
        "        lat = place.get('lat')\n",
        "        lon = place.get('lon')\n",
        "    else:  # For 'way' and 'relation' types, get coordinates from 'center'\n",
        "        center = place.get('center')\n",
        "        lat = center.get('lat')\n",
        "        lon = center.get('lon')\n",
        "\n",
        "    # Append the extracted data as a dictionary to the list\n",
        "    data_list.append({\n",
        "        'type': place_type,\n",
        "        'id': place_id,\n",
        "        'name': name,\n",
        "        'lat': lat,\n",
        "        'lon': lon,\n",
        "        'cuisine': cuisine,\n",
        "        'brand': brand\n",
        "    })\n",
        "\n",
        "# Create the DataFrame from the list of dictionaries\n",
        "df = pd.DataFrame(data_list)\n",
        "\n",
        "# Display the first few rows of the DataFrame\n",
        "display(df.head())"
      ],
      "metadata": {
        "id": "V3jSXEyjz8tu"
      },
      "execution_count": null,
      "outputs": []
    },
    {
      "cell_type": "markdown",
      "source": [
        "## Visualization\n",
        "\n",
        "First install/update plotly"
      ],
      "metadata": {
        "id": "KODSxX-r4kKP"
      }
    },
    {
      "cell_type": "code",
      "source": [
        "!pip install -U plotly"
      ],
      "metadata": {
        "id": "fhbkyv_B0KU8"
      },
      "execution_count": null,
      "outputs": []
    },
    {
      "cell_type": "markdown",
      "source": [
        "Import plotly"
      ],
      "metadata": {
        "id": "p0DNiNRB4qoR"
      }
    },
    {
      "cell_type": "code",
      "source": [
        "import plotly.express as px"
      ],
      "metadata": {
        "id": "a8rIeQaX0_S3"
      },
      "execution_count": 20,
      "outputs": []
    },
    {
      "cell_type": "markdown",
      "source": [
        "Create the scatter map plot."
      ],
      "metadata": {
        "id": "jx_3rSSl2clh"
      }
    },
    {
      "cell_type": "code",
      "source": [
        "fig = px.scatter_map(\n",
        "    df, lat=\"lat\", lon=\"lon\",\n",
        "    color=\"type\",          # or category if available\n",
        "    hover_name=\"name\",\n",
        "    hover_data=[\"brand\", \"cuisine\"],\n",
        "    map_style=\"carto-positron\",\n",
        "    zoom=11, height=500\n",
        ")\n",
        "fig.show()"
      ],
      "metadata": {
        "id": "lykxzybl0vnM"
      },
      "execution_count": null,
      "outputs": []
    }
  ]
}